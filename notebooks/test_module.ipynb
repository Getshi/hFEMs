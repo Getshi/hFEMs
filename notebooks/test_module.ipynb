{
 "cells": [
  {
   "cell_type": "code",
   "execution_count": 1,
   "metadata": {},
   "outputs": [],
   "source": [
    "import numpy as np\n",
    "import hFEMs as hs\n",
    "import importlib\n",
    "importlib.reload(hs);\n",
    "# dir(hs)"
   ]
  },
  {
   "cell_type": "code",
   "execution_count": null,
   "metadata": {},
   "outputs": [],
   "source": [
    "hs.print(\"0out\",\"0err\")\n",
    "hs.print2(\"1out\",\"1err\")\n",
    "hs.print(\"2out\",\"2err\")"
   ]
  },
  {
   "cell_type": "code",
   "execution_count": null,
   "metadata": {},
   "outputs": [],
   "source": [
    "hs.print(\"0out\",\"0err\")\n",
    "caps = hs.return_capsule_with_destructor()\n",
    "caps2 = hs.return_capsule_with_destructor()\n",
    "hs.print(\"1out\",\"1err\")\n",
    "del caps\n",
    "del caps2\n",
    "hs.print(\"2out\",\"2err\")\n"
   ]
  },
  {
   "cell_type": "code",
   "execution_count": null,
   "metadata": {},
   "outputs": [],
   "source": [
    "pairs = [(0,9),(1,8)]\n",
    "CL = np.array([[1,0,0,0,0,0,0,0,0,0]],dtype=np.float)\n",
    "dL = np.array([42],dtype=np.float)\n",
    "ndof = 10\n",
    "lengths = [1,2,3,4,5,6,7,8,9]\n",
    "solvable = hs.TestSolvable(ndof, lengths, pairs, CL, dL)\n",
    "print(solvable.grad(np.zeros(10,)))\n",
    "ns = hs.NewtonSolver(solvable)\n",
    "\n"
   ]
  },
  {
   "cell_type": "code",
   "execution_count": null,
   "metadata": {},
   "outputs": [],
   "source": [
    "ns"
   ]
  },
  {
   "cell_type": "code",
   "execution_count": null,
   "metadata": {},
   "outputs": [],
   "source": [
    "# TO GRADIENT TESTING MODULE\n",
    "\n",
    "%matplotlib inline\n",
    "import matplotlib.pyplot as plt\n",
    "\n",
    "def test_gradients(fun_val, fun_grad, q, dq, eps):\n",
    "    fL = fun_val(q - eps * dq)\n",
    "    fR = fun_val(q + eps * dq)\n",
    "    dfdq = fun_grad(q)\n",
    "    err = (fR - fL) - (2*eps * dfdq@dq)\n",
    "    err = np.abs(err).max()\n",
    "    return err\n",
    "\n",
    "def plot_err(fun_val, fun_grad, ndims, epss, ndirs=1):\n",
    "    q = np.random.uniform(-1,1,(ndims,))\n",
    "    \n",
    "    errs = np.empty((len(epss)),dtype=np.float)\n",
    "    for k,eps in enumerate(epss):\n",
    "        errmax = 0\n",
    "        for i in range(ndirs):\n",
    "            dq = np.random.uniform(-1,1,(ndims,))\n",
    "            dq /= np.linalg.norm(dq)\n",
    "            errmax = max(errmax, test_gradients(fun_val, fun_grad, q, dq, eps))\n",
    "        errs[k] = errmax\n",
    "    \n",
    "    plt.plot(epss,errs,label=\"err\")\n",
    "    plt.plot(epss,epss,\"--\",label=r\"$\\varepsilon$\")\n",
    "    plt.plot(epss,epss**2,\"--\",label=r\"$\\varepsilon^2$\")\n",
    "    plt.plot(epss,epss**3,\"--\",label=r\"$\\varepsilon^3$\")\n",
    "    plt.xscale('log')\n",
    "    plt.yscale('log')\n",
    "    plt.legend()\n",
    "    plt.show()\n",
    "\n",
    "pairs = [(0,9),(1,8)]\n",
    "CL = np.array([[1,0,0,0,0,0,0,0,0,0]],dtype=np.float)\n",
    "dL = np.array([42],dtype=np.float)\n",
    "tst = hs.TestSolvable(pairs, CL, dL)\n",
    "\n",
    "plot_err(tst.val, tst.grad, ndims=10, epss=np.logspace(-10,0,50), ndirs=3)\n",
    "plot_err(tst.grad, tst.hess, ndims=10, epss=np.logspace(-10,0,50), ndirs=3)"
   ]
  },
  {
   "cell_type": "code",
   "execution_count": null,
   "metadata": {},
   "outputs": [],
   "source": []
  },
  {
   "cell_type": "code",
   "execution_count": null,
   "metadata": {},
   "outputs": [],
   "source": []
  }
 ],
 "metadata": {
  "anaconda-cloud": {},
  "kernelspec": {
   "display_name": "Python [default]",
   "language": "python",
   "name": "python3"
  },
  "language_info": {
   "codemirror_mode": {
    "name": "ipython",
    "version": 3
   },
   "file_extension": ".py",
   "mimetype": "text/x-python",
   "name": "python",
   "nbconvert_exporter": "python",
   "pygments_lexer": "ipython3",
   "version": "3.5.6"
  }
 },
 "nbformat": 4,
 "nbformat_minor": 2
}
