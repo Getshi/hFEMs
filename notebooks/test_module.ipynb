{
 "cells": [
  {
   "cell_type": "code",
   "execution_count": 1,
   "metadata": {},
   "outputs": [],
   "source": [
    "import numpy as np\n",
    "import hFEMs as hs\n",
    "import importlib\n",
    "importlib.reload(hs);\n",
    "# dir(hs)"
   ]
  },
  {
   "cell_type": "code",
   "execution_count": null,
   "metadata": {},
   "outputs": [],
   "source": [
    "pairs = [(0,9),(1,8)]\n",
    "CL = np.array([[1,0,0,0,0,0,0,0,0,0]],dtype=np.float)\n",
    "dL = np.array([42],dtype=np.float)\n",
    "ndof = 10\n",
    "lengths = [1,2,3,4,5,6,7,8,9]\n",
    "solvable = hs.TestSolvable(ndof, lengths, pairs, CL, dL)\n",
    "print(solvable.grad(np.zeros(10,)))\n",
    "ns = hs.NewtonSolver(solvable)\n",
    "\n"
   ]
  },
  {
   "cell_type": "code",
   "execution_count": 1,
   "metadata": {},
   "outputs": [],
   "source": [
    "# TO GRADIENT TESTING MODULE\n",
    "\n",
    "%matplotlib inline\n",
    "import matplotlib.pyplot as plt\n",
    "import numpy as np\n",
    "\n",
    "def test_gradients(fun_val, fun_grad, q, dq, eps):\n",
    "    fL = fun_val(q - eps * dq)\n",
    "    fR = fun_val(q + eps * dq)\n",
    "    dfdq = fun_grad(q)\n",
    "    err = (fR - fL) - (2*eps * dfdq@dq)\n",
    "    err = np.abs(err)\n",
    "    return err.min(), err.max()\n",
    "\n",
    "def test_gradients_O2(fun_val, fun_grad, q, dq, eps):\n",
    "    fL = fun_val(q)\n",
    "    fR = fun_val(q + eps * dq)\n",
    "    dfdq = fun_grad(q)\n",
    "    err = (fR - fL) - (eps * dfdq@dq)\n",
    "    err = np.abs(err)\n",
    "    return err.min(), err.max()\n",
    "\n",
    "def plot_err(fun_val, fun_grad, ndims, epss, nvals=1, ndirs=1,xscale=1,O2=False):\n",
    "    errfun = test_gradients_O2 if O2 else test_gradients\n",
    "    \n",
    "    errs_min = np.empty((len(epss)),dtype=np.float)\n",
    "    errs_max = np.empty((len(epss)),dtype=np.float)\n",
    "    for k,eps in enumerate(epss):\n",
    "        errmin = np.inf\n",
    "        errmax = -np.inf\n",
    "        for j in range(nvals):\n",
    "            q = np.random.uniform(-xscale,xscale,(ndims,))\n",
    "            for i in range(ndirs):\n",
    "                dq = np.random.uniform(-1,1,(ndims,))\n",
    "                dq /= np.linalg.norm(dq)\n",
    "                errmin_, errmax_ = errfun(fun_val, fun_grad, q, dq, eps)\n",
    "                errmin = min(errmin, errmin_)\n",
    "                errmax = max(errmax, errmax_)\n",
    "        errs_min[k] = errmin\n",
    "        errs_max[k] = errmax\n",
    "    \n",
    "    plt.plot(epss,errs_min,\"C0o\",label=\"err min\")\n",
    "    plt.plot(epss,errs_max,\"C1.\",label=\"err max\")\n",
    "    plt.plot(epss,epss,\"--\",label=r\"$\\varepsilon$\")\n",
    "    plt.plot(epss,epss**2,\"--\",label=r\"$\\varepsilon^2$\" + (\"!\" if O2 else \"\"))\n",
    "    plt.plot(epss,epss**3,\"--\",label=r\"$\\varepsilon^3$\" + (\"\" if O2 else \"!\"))\n",
    "    plt.xscale('log')\n",
    "    plt.yscale('log')\n",
    "    plt.legend()\n",
    "    plt.show()"
   ]
  },
  {
   "cell_type": "code",
   "execution_count": null,
   "metadata": {},
   "outputs": [],
   "source": [
    "# gradient checking TestSolvable\n",
    "pairs = [(0,9),(1,8)]\n",
    "CL = np.array([[1,0,0,0,0,0,0,0,0,0]],dtype=np.float)\n",
    "dL = np.array([42],dtype=np.float)\n",
    "tst = hs.TestSolvable(pairs, CL, dL)\n",
    "\n",
    "plot_err(tst.val, tst.grad, ndims=10, epss=np.logspace(-10,0,50), ndirs=3)\n",
    "plot_err(tst.grad, tst.hess, ndims=10, epss=np.logspace(-10,0,50), ndirs=3)"
   ]
  },
  {
   "cell_type": "code",
   "execution_count": 5,
   "metadata": {},
   "outputs": [
    {
     "data": {
      "image/png": "[encoded data removed]",
      "text/plain": [
       "<Figure size 432x288 with 1 Axes>"
      ]
     },
     "metadata": {
      "needs_background": "light"
     },
     "output_type": "display_data"
    }
   ],
   "source": [
    "# gradient checking VegaFEMSolvable\n",
    "import numpy as np\n",
    "import hFEMs as hs\n",
    "vegfile = \"/home/gsperl/Projects/hFEMs/meshes/testmesh.veg\"\n",
    "strain = np.array([0,0,0, 0,0,0],dtype=np.float)\n",
    "strain = np.array([0.5,0,0, 0.3,0,0],dtype=np.float)\n",
    "tst = hs.VegaFEMSolvable(vegfile, strain)\n",
    "\n",
    "ndof = 315\n",
    "# plot_err(tst.val, tst.grad, ndims=ndof, epss=np.logspace(-10,0,100), ndirs=3, nvals=3, O2=True)\n",
    "plot_err(tst.grad, tst.hess, ndims=ndof, epss=np.logspace(-10,0,100), ndirs=3, nvals=3, xscale=0.1, O2=True)\n"
   ]
  },
  {
   "cell_type": "code",
   "execution_count": 20,
   "metadata": {},
   "outputs": [
    {
     "data": {
      "text/plain": [
       "0.0"
      ]
     },
     "execution_count": 20,
     "metadata": {},
     "output_type": "execute_result"
    }
   ],
   "source": [
    "qtst = np.random.uniform(-1,1,ndof)\n",
    "from scipy.sparse.linalg import norm as sparsenorm\n",
    "sparsenorm(tst.hess(qtst).transpose() - tst.hess(qtst))"
   ]
  },
  {
   "cell_type": "code",
   "execution_count": 2,
   "metadata": {},
   "outputs": [],
   "source": [
    "import numpy as np\n",
    "import hFEMs as hs\n",
    "\n",
    "vegfile = \"/home/gsperl/Projects/hFEMs/meshes/testmesh.veg\"\n",
    "strain = np.array([0.1,0,0, 0,0,0],dtype=np.float)\n",
    "\n",
    "solvable = hs.VegaFEMSolvable(vegfile, strain)\n",
    "\n",
    "nssettings = hs.NewtonSolverSettings()\n",
    "nssettings.projgrad_epsilon = 0.8\n",
    "ns = hs.NewtonSolver(solvable, nssettings)\n",
    "\n",
    "x = solvable.getWorldPositions(ns.getSolution())\n",
    "nrows,ncols,phi = solvable.getGrid()"
   ]
  },
  {
   "cell_type": "code",
   "execution_count": 5,
   "metadata": {},
   "outputs": [],
   "source": []
  }
 ],
 "metadata": {
  "anaconda-cloud": {},
  "kernelspec": {
   "display_name": "Python 3",
   "language": "python",
   "name": "python3"
  },
  "language_info": {
   "codemirror_mode": {
    "name": "ipython",
    "version": 3
   },
   "file_extension": ".py",
   "mimetype": "text/x-python",
   "name": "python",
   "nbconvert_exporter": "python",
   "pygments_lexer": "ipython3",
   "version": "3.7.6"
  }
 },
 "nbformat": 4,
 "nbformat_minor": 2
}
